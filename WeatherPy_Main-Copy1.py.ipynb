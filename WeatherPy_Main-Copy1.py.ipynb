{
 "cells": [
  {
   "cell_type": "code",
   "execution_count": 54,
   "metadata": {},
   "outputs": [],
   "source": [
    "#Dependencies\n",
    "import pandas as pd\n",
    "import matplotlib.pyplot as plt\n",
    "import seaborn\n",
    "from citipy import citipy\n",
    "import random\n",
    "import csv\n",
    "import requests as req\n",
    "import time\n",
    "import numpy as np\n",
    "import json"
   ]
  },
  {
   "cell_type": "code",
   "execution_count": 55,
   "metadata": {},
   "outputs": [],
   "source": [
    "api_key = \"7bb4964424c64fe8ddd15329382d570d\""
   ]
  },
  {
   "cell_type": "code",
   "execution_count": 56,
   "metadata": {},
   "outputs": [
    {
     "name": "stderr",
     "output_type": "stream",
     "text": [
      "C:\\Users\\jhoff\\Anaconda3.6\\lib\\site-packages\\pandas\\core\\frame.py:6201: FutureWarning: Sorting because non-concatenation axis is not aligned. A future version\n",
      "of pandas will change to not sort by default.\n",
      "\n",
      "To accept the future behavior, pass 'sort=True'.\n",
      "\n",
      "To retain the current behavior and silence the warning, pass sort=False\n",
      "\n",
      "  sort=sort)\n"
     ]
    },
    {
     "data": {
      "text/html": [
       "<div>\n",
       "<style scoped>\n",
       "    .dataframe tbody tr th:only-of-type {\n",
       "        vertical-align: middle;\n",
       "    }\n",
       "\n",
       "    .dataframe tbody tr th {\n",
       "        vertical-align: top;\n",
       "    }\n",
       "\n",
       "    .dataframe thead th {\n",
       "        text-align: right;\n",
       "    }\n",
       "</style>\n",
       "<table border=\"1\" class=\"dataframe\">\n",
       "  <thead>\n",
       "    <tr style=\"text-align: right;\">\n",
       "      <th></th>\n",
       "      <th>City</th>\n",
       "      <th>Country</th>\n",
       "      <th>Latitude</th>\n",
       "      <th>Longitude</th>\n",
       "    </tr>\n",
       "  </thead>\n",
       "  <tbody>\n",
       "    <tr>\n",
       "      <th>0</th>\n",
       "      <td>NaN</td>\n",
       "      <td>NaN</td>\n",
       "      <td>-179.78</td>\n",
       "      <td>-346.31</td>\n",
       "    </tr>\n",
       "    <tr>\n",
       "      <th>1</th>\n",
       "      <td>NaN</td>\n",
       "      <td>NaN</td>\n",
       "      <td>-178.05</td>\n",
       "      <td>-350.83</td>\n",
       "    </tr>\n",
       "    <tr>\n",
       "      <th>2</th>\n",
       "      <td>NaN</td>\n",
       "      <td>NaN</td>\n",
       "      <td>-178.19</td>\n",
       "      <td>-358.38</td>\n",
       "    </tr>\n",
       "    <tr>\n",
       "      <th>3</th>\n",
       "      <td>NaN</td>\n",
       "      <td>NaN</td>\n",
       "      <td>-168.37</td>\n",
       "      <td>-357.40</td>\n",
       "    </tr>\n",
       "    <tr>\n",
       "      <th>4</th>\n",
       "      <td>NaN</td>\n",
       "      <td>NaN</td>\n",
       "      <td>-169.35</td>\n",
       "      <td>-347.02</td>\n",
       "    </tr>\n",
       "  </tbody>\n",
       "</table>\n",
       "</div>"
      ],
      "text/plain": [
       "  City Country  Latitude  Longitude\n",
       "0  NaN     NaN   -179.78    -346.31\n",
       "1  NaN     NaN   -178.05    -350.83\n",
       "2  NaN     NaN   -178.19    -358.38\n",
       "3  NaN     NaN   -168.37    -357.40\n",
       "4  NaN     NaN   -169.35    -347.02"
      ]
     },
     "execution_count": 56,
     "metadata": {},
     "output_type": "execute_result"
    }
   ],
   "source": [
    "# Latitude and longitude zones based on geographic coordinate system \n",
    "lat_zone = np.arange(-90, 90, 10)\n",
    "lon_zone = np.arange(-180, 180, 10)\n",
    "\n",
    "# Create dataframe for storing data\n",
    "cities_df = pd.DataFrame()\n",
    "\n",
    "# Make columns in dataframe\n",
    "cities_df[\"Latitude\"] = \"\"\n",
    "cities_df[\"Longitude\"] = \"\"\n",
    "cities_df[\"City\"] = \"\"\n",
    "cities_df[\"Country\"] = \"\"\n",
    "\n",
    "# Create 'for' loop to get latitude and longitude values\n",
    "for coord_lat in lat_zone:\n",
    "    \n",
    "    for coord_lon in lon_zone:\n",
    "        # Get list of latitude and longitude values (0.01 for value to 2 decimal places)\n",
    "        lat = list(np.arange(coord_lat, coord_lat + 15, 0.01))\n",
    "        lon = list(np.arange(coord_lon, coord_lon + 15, 0.01))\n",
    "        \n",
    "        # Random latitude and longitude values \n",
    "        random_lats = random.sample(lat, 50)\n",
    "        random_lons = random.sample(lon, 50)\n",
    "        \n",
    "        # Sample of latitude and longitude values\n",
    "        lat_samp = [coord_lat + lat for lat in random_lats]\n",
    "        lon_samp = [coord_lon + lon for lon in random_lons]\n",
    "        \n",
    "        # Store values in dataframe created\n",
    "        cities_df = cities_df.append(pd.DataFrame.from_dict({\n",
    "            \"Latitude\": lat_samp, \n",
    "            \"Longitude\": lon_samp}))\n",
    "\n",
    "cities_df = cities_df.reset_index(drop=True)\n",
    "cities_df.head()"
   ]
  },
  {
   "cell_type": "code",
   "execution_count": null,
   "metadata": {},
   "outputs": [
    {
     "name": "stderr",
     "output_type": "stream",
     "text": [
      "C:\\Users\\jhoff\\Anaconda3.6\\lib\\site-packages\\ipykernel_launcher.py:4: FutureWarning: set_value is deprecated and will be removed in a future release. Please use .at[] or .iat[] accessors instead\n",
      "  after removing the cwd from sys.path.\n",
      "C:\\Users\\jhoff\\Anaconda3.6\\lib\\site-packages\\ipykernel_launcher.py:5: FutureWarning: set_value is deprecated and will be removed in a future release. Please use .at[] or .iat[] accessors instead\n",
      "  \"\"\"\n"
     ]
    }
   ],
   "source": [
    "# Use 'for' loop to locate the neareast city based on latitude and longitude stored in dataframe\n",
    "for column, row in cities_df.iterrows():\n",
    "    city = citipy.nearest_city(row[\"Latitude\"], row[\"Longitude\"])\n",
    "    cities_df.set_value(column, \"City\", city.city_name)\n",
    "    cities_df.set_value(column, \"Country\", city.country_code)\n",
    "\n",
    "# Remove Latitude and Longitude columns to get city names and countries only\n",
    "new_cities_df = cities_df.drop([\"Latitude\", \"Longitude\"], axis=1)\n",
    "\n",
    "# Remove duplicate cities and keep unique cities and countries only\n",
    "new_cities_df = new_cities_df.drop_duplicates()\n",
    "new_cities_df.head()"
   ]
  },
  {
   "cell_type": "code",
   "execution_count": null,
   "metadata": {},
   "outputs": [],
   "source": [
    "# Choose 500 random cities based on longitude and latitude\n",
    "random_cities_df = new_cities_df.sample(500)\n",
    "\n",
    "# Reset index\n",
    "random_cities_df = random_cities_df.reset_index(drop=True)\n",
    "random_cities_df.head()"
   ]
  },
  {
   "cell_type": "code",
   "execution_count": null,
   "metadata": {},
   "outputs": [],
   "source": [
    " url = \"http://api.openweathermap.org/data/2.5/weather\"\n",
    "\n",
    "params = {\"appid\": \"2ec88724f3fad131ccffe1dfb2efab45\",\n",
    "          \"units\": \"metric\"}\n",
    "\n",
    "# Use 'for' loop to retrieve weather info by rows in dataframe\n",
    "for column, row in random_cities_df.iterrows():\n",
    "    \n",
    "    # Reference rows for 'q' param\n",
    "    params[\"q\"] = f'{row[\"City\"]}, {row[\"Country\"]}'\n",
    "    \n",
    "    # Get and print links for each city\n",
    "    print(f'Weather information for {params[\"q\"]}')\n",
    "    weather_response = req.get(url, params)\n",
    "    print(weather_response.url)\n",
    "    weather_response  = weather_response.json()\n",
    "    \n",
    "    # Get weather data and input into dataframe\n",
    "    random_cities_df.set_value(column, \"Latitude\", weather_response.get(\"coord\", {}).get(\"lat\"))\n",
    "    random_cities_df.set_value(column, \"Longitude\", weather_response.get(\"coord\", {}).get(\"lon\"))\n",
    "    random_cities_df.set_value(column, \"Temperature\", weather_response.get(\"main\", {}).get(\"temp_max\"))\n",
    "    random_cities_df.set_value(column, \"Wind Speed\", weather_response.get(\"wind\", {}).get(\"speed\"))\n",
    "    random_cities_df.set_value(column, \"Humidity\", weather_response.get(\"main\", {}).get(\"humidity\"))\n",
    "    random_cities_df.set_value(column, \"Cloudiness\", weather_response.get(\"clouds\", {}).get(\"all\"))"
   ]
  },
  {
   "cell_type": "code",
   "execution_count": null,
   "metadata": {},
   "outputs": [],
   "source": [
    "# Display dataframe with all info\n",
    "random_cities_df\n",
    "\n",
    "# Remove cities with no data available\n",
    "new_random_cities_df = random_cities_df.dropna()\n",
    "new_random_cities_df.head()"
   ]
  },
  {
   "cell_type": "code",
   "execution_count": null,
   "metadata": {},
   "outputs": [],
   "source": [
    "# Save dataframe to csv file\n",
    "new_random_cities_df.to_csv(\"WeatherInfo.csv\")"
   ]
  },
  {
   "cell_type": "code",
   "execution_count": null,
   "metadata": {},
   "outputs": [],
   "source": [
    "#Temperature (F) vs. Latitude\n",
    "temp_vs_lat = new_random_cities_df.plot(kind=\"scatter\",\n",
    "                                        x=\"Latitude\",\n",
    "                                        y=\"Temperature\",\n",
    "                                        color=\"blue\",\n",
    "                                        edgecolor=\"black\",\n",
    "                                        grid=True)\n",
    "plt.title(\"Latitude of City vs Temperature 07/07/2018\")\n",
    "plt.xlabel(\"Latitude\")\n",
    "plt.ylabel(\"Temperature (F)\")\n",
    "plt.savefig(\"TempVsLat.png\")\n",
    "plt.show()"
   ]
  },
  {
   "cell_type": "code",
   "execution_count": null,
   "metadata": {},
   "outputs": [],
   "source": [
    "#Humidity vs. Latitude\n",
    "humidity_vs_lat = new_random_cities_df.plot(kind=\"scatter\",\n",
    "                                         x=\"Latitude\",\n",
    "                                         y=\"Humidity\",\n",
    "                                         color=\"blue\",\n",
    "                                         edgecolor=\"black\",\n",
    "                                         grid=True)\n",
    "plt.title(\"Latitude of City vs Humidity 07/07/2018\")\n",
    "plt.xlabel(\"Latitude\")\n",
    "plt.ylabel(\"Humidity (%)\")\n",
    "plt.savefig(\"HumidityVsLat.png\")\n",
    "plt.show()"
   ]
  },
  {
   "cell_type": "code",
   "execution_count": null,
   "metadata": {},
   "outputs": [],
   "source": [
    "#Cloudiness vs. Latitude\n",
    "cloud_vs_lat = new_random_cities_df.plot(kind=\"scatter\",\n",
    "                                         x=\"Latitude\",\n",
    "                                         y=\"Cloudiness\",\n",
    "                                         color=\"blue\",\n",
    "                                         edgecolor=\"black\",\n",
    "                                         grid=True)\n",
    "plt.title(\"Latitude of City vs Cloudiness 07/07/2018\")\n",
    "plt.xlabel(\"Latitude\")\n",
    "plt.ylabel(\"Cloudiness (%)\")\n",
    "plt.ylim(-20, 120)\n",
    "plt.savefig(\"CloudinessVsLat.png\")\n",
    "plt.show()"
   ]
  },
  {
   "cell_type": "code",
   "execution_count": null,
   "metadata": {},
   "outputs": [],
   "source": [
    "#Wind Speed (mph) vs. Latitude\n",
    "windspeed_vs_lat = new_random_cities_df.plot(kind=\"scatter\",\n",
    "                                         x=\"Latitude\",\n",
    "                                         y=\"Wind Speed\",\n",
    "                                         color=\"blue\",\n",
    "                                         edgecolor=\"black\",\n",
    "                                         grid=True)\n",
    "plt.title(\"Latitude of City vs Wind Speed 07/07/2018\")\n",
    "plt.xlabel(\"Latitude\")\n",
    "plt.ylabel(\"Wind Speed (mph)\")\n",
    "plt.ylim(-2, 14)\n",
    "plt.savefig(\"WindSpeedVsLat.png\")\n",
    "plt.show()"
   ]
  },
  {
   "cell_type": "code",
   "execution_count": null,
   "metadata": {},
   "outputs": [],
   "source": []
  },
  {
   "cell_type": "code",
   "execution_count": null,
   "metadata": {},
   "outputs": [],
   "source": []
  }
 ],
 "metadata": {
  "kernelspec": {
   "display_name": "Python 3",
   "language": "python",
   "name": "python3"
  },
  "language_info": {
   "codemirror_mode": {
    "name": "ipython",
    "version": 3
   },
   "file_extension": ".py",
   "mimetype": "text/x-python",
   "name": "python",
   "nbconvert_exporter": "python",
   "pygments_lexer": "ipython3",
   "version": "3.6.5"
  }
 },
 "nbformat": 4,
 "nbformat_minor": 2
}
